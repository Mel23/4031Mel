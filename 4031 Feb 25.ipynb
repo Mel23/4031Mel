{
 "metadata": {
  "name": ""
 },
 "nbformat": 3,
 "nbformat_minor": 0,
 "worksheets": [
  {
   "cells": [
    {
     "cell_type": "code",
     "collapsed": false,
     "input": [
      "import numpy as np\n",
      "from scipy import optimize"
     ],
     "language": "python",
     "metadata": {},
     "outputs": [],
     "prompt_number": 1
    },
    {
     "cell_type": "code",
     "collapsed": false,
     "input": [
      "MU_ACTUAL = 15\n",
      "SIGMA_ACTUAL = 3\n",
      "data = np.random.normal(MU_ACTUAL, SIGMA_ACTUAL, 100)\n",
      "#define the gaussianpdf\n",
      "def gaussianPDF(mu, sigma, x):\n",
      "    return 1./(sigma * np.sqrt(2 * np.pi)) * np.exp( - (x - mu)**2 / (2 * sigma**2) )\n",
      "\n",
      "def logLikelihoodGaussian(mu, sigma, data):\n",
      "    pxs = np.log(gaussianPDF(mu, sigma, data))\n",
      "    return np.array(pxs).sum()"
     ],
     "language": "python",
     "metadata": {},
     "outputs": [],
     "prompt_number": 8
    },
    {
     "cell_type": "code",
     "collapsed": false,
     "input": [
      "plt.hist(data)"
     ],
     "language": "python",
     "metadata": {},
     "outputs": [
      {
       "metadata": {},
       "output_type": "pyout",
       "prompt_number": 9,
       "text": [
        "(array([  2.,   2.,   5.,  17.,  13.,  16.,  16.,  18.,   6.,   5.]),\n",
        " array([  5.91945   ,   7.49884779,   9.07824558,  10.65764337,\n",
        "        12.23704116,  13.81643895,  15.39583674,  16.97523453,\n",
        "        18.55463232,  20.13403011,  21.7134279 ]),\n",
        " <a list of 10 Patch objects>)"
       ]
      }
     ],
     "prompt_number": 9
    },
    {
     "cell_type": "code",
     "collapsed": false,
     "input": [
      "import pyfits"
     ],
     "language": "python",
     "metadata": {},
     "outputs": [],
     "prompt_number": 12
    },
    {
     "cell_type": "code",
     "collapsed": false,
     "input": [
      "abell=pyfits.open('ABELL_3266.fits')"
     ],
     "language": "python",
     "metadata": {},
     "outputs": [],
     "prompt_number": 13
    },
    {
     "cell_type": "code",
     "collapsed": false,
     "input": [
      "ad=abell[1].data"
     ],
     "language": "python",
     "metadata": {},
     "outputs": [],
     "prompt_number": 16
    },
    {
     "cell_type": "code",
     "collapsed": false,
     "input": [
      "vel=ad['Vel']"
     ],
     "language": "python",
     "metadata": {},
     "outputs": [],
     "prompt_number": 29
    },
    {
     "cell_type": "code",
     "collapsed": false,
     "input": [
      "vel[0]"
     ],
     "language": "python",
     "metadata": {},
     "outputs": [
      {
       "metadata": {},
       "output_type": "pyout",
       "prompt_number": 30,
       "text": [
        "14152"
       ]
      }
     ],
     "prompt_number": 30
    },
    {
     "cell_type": "code",
     "collapsed": false,
     "input": [
      "evel=ad['e_Vel']"
     ],
     "language": "python",
     "metadata": {},
     "outputs": [],
     "prompt_number": 31
    },
    {
     "cell_type": "code",
     "collapsed": false,
     "input": [
      "plt.hist(evel)\n"
     ],
     "language": "python",
     "metadata": {},
     "outputs": [
      {
       "metadata": {},
       "output_type": "pyout",
       "prompt_number": 32,
       "text": [
        "(array([ 232.,   55.,   24.,    1.,    1.,    1.,    1.,    1.,    0.,    1.]),\n",
        " array([  30. ,   62.7,   95.4,  128.1,  160.8,  193.5,  226.2,  258.9,\n",
        "        291.6,  324.3,  357. ]),\n",
        " <a list of 10 Patch objects>)"
       ]
      }
     ],
     "prompt_number": 32
    },
    {
     "cell_type": "code",
     "collapsed": false,
     "input": [
      "plt.show()"
     ],
     "language": "python",
     "metadata": {},
     "outputs": [],
     "prompt_number": 33
    },
    {
     "cell_type": "code",
     "collapsed": false,
     "input": [
      "mu=np.average(vel)"
     ],
     "language": "python",
     "metadata": {},
     "outputs": [],
     "prompt_number": 47
    },
    {
     "cell_type": "code",
     "collapsed": false,
     "input": [
      "sigma=np.std(vel)"
     ],
     "language": "python",
     "metadata": {},
     "outputs": [],
     "prompt_number": 48
    },
    {
     "cell_type": "code",
     "collapsed": false,
     "input": [
      "def gaussianPDF(mu, sigma, x):\n",
      "    z=(x - mu) / ( sigma)\n",
      "    return 1./(sigma * np.sqrt(2 * np.pi)) * np.exp( - z**2/2 )\n"
     ],
     "language": "python",
     "metadata": {},
     "outputs": [],
     "prompt_number": 49
    },
    {
     "cell_type": "code",
     "collapsed": false,
     "input": [
      "def mll(theta, vel):\n",
      "    mu = theta[0]\n",
      "    sigma = theta[1]\n",
      "    pxs=np.log(gaussianPDF(mu, sigma, vel))\n",
      "    return -np.sum((pxs))"
     ],
     "language": "python",
     "metadata": {},
     "outputs": [],
     "prompt_number": 50
    },
    {
     "cell_type": "code",
     "collapsed": false,
     "input": [
      "initial=[12.,2.]\n"
     ],
     "language": "python",
     "metadata": {},
     "outputs": [],
     "prompt_number": 42
    },
    {
     "cell_type": "code",
     "collapsed": false,
     "input": [
      "res=optimize.minimize(mll,initial,args=(vel,))\n",
      "\n",
      "print 'Fitted mu:', res.x[0]\n",
      "print 'Fitted sigma:', res.x[1]\n",
      "print '-----------------'\n",
      "print 'Actual mu:', mu\n",
      "print 'Actual sigma:', sigma    "
     ],
     "language": "python",
     "metadata": {},
     "outputs": [
      {
       "output_type": "stream",
       "stream": "stdout",
       "text": [
        "Fitted mu: 12.0\n",
        "Fitted sigma: 2.0\n",
        "-----------------\n",
        "Actual mu: 17823.4952681\n",
        "Actual sigma: 1159.191333\n"
       ]
      },
      {
       "output_type": "stream",
       "stream": "stderr",
       "text": [
        "-c:4: RuntimeWarning: divide by zero encountered in log\n",
        "/usr/lib/python2.7/dist-packages/scipy/optimize/optimize.py:610: RuntimeWarning: invalid value encountered in double_scalars\n",
        "  grad[k] = (f(*((xk + d,) + args)) - f0) / d[k]\n"
       ]
      }
     ],
     "prompt_number": 53
    },
    {
     "cell_type": "code",
     "collapsed": false,
     "input": [
      "np.average(vel)"
     ],
     "language": "python",
     "metadata": {},
     "outputs": [
      {
       "metadata": {},
       "output_type": "pyout",
       "prompt_number": 46,
       "text": [
        "17823.495268138802"
       ]
      }
     ],
     "prompt_number": 46
    },
    {
     "cell_type": "code",
     "collapsed": false,
     "input": [],
     "language": "python",
     "metadata": {},
     "outputs": []
    }
   ],
   "metadata": {}
  }
 ]
}