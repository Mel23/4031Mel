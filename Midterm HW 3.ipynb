{
 "metadata": {
  "name": ""
 },
 "nbformat": 3,
 "nbformat_minor": 0,
 "worksheets": [
  {
   "cells": [
    {
     "cell_type": "code",
     "collapsed": false,
     "input": [
      "%pylab inline\n",
      "import numpy as np\n",
      "import pyfits\n",
      "import matplotlib.pyplot as plt\n",
      "import matplotlib.gridspec as gridspec\n",
      "from matplotlib.ticker import MaxNLocator\n",
      "from mpl_toolkits.axes_grid1 import make_axes_locatable\n",
      "from scipy.stats import ks_2samp, mannwhitneyu\n",
      "from scipy import optimize\n",
      "from scipy.stats.mstats import normaltest"
     ],
     "language": "python",
     "metadata": {},
     "outputs": [],
     "prompt_number": 3
    },
    {
     "cell_type": "code",
     "collapsed": false,
     "input": [
      "datasteep = np.loadtxt('radiosteep.dat',unpack=True)\n",
      "dataflat=np.loadtxt('radioflat.dat',unpack=True)\n",
      "ts=len(datasteep)\n",
      "tf=len(dataflat)"
     ],
     "language": "python",
     "metadata": {},
     "outputs": [],
     "prompt_number": 80
    },
    {
     "cell_type": "code",
     "collapsed": false,
     "input": [
      "flathist,flatedges=np.histogram(dataflat,bins=10)\n",
      "steephist,steepedges=np.histogram(datasteep,bins=10)"
     ],
     "language": "python",
     "metadata": {},
     "outputs": [],
     "prompt_number": 197
    },
    {
     "cell_type": "code",
     "collapsed": false,
     "input": [
      "flatcenters=0.5*(flatedges[1:]+flatedges[:-1])\n",
      "steepcenters=0.5*(steepedges[1:]+steepedges[:-1])\n",
      "widf = flatedges[1:] - flatedges[:-1]\n",
      "wids = steepedges[1:] - steepedges[:-1]"
     ],
     "language": "python",
     "metadata": {},
     "outputs": [],
     "prompt_number": 198
    },
    {
     "cell_type": "code",
     "collapsed": false,
     "input": [
      "flaterr=flathist/float(tf)*np.sqrt((np.sqrt(flathist)/flathist)**2+(np.sqrt(tf)/tf)**2)\n",
      "steeperr=steephist/float(ts)*np.sqrt((np.sqrt(steephist)/steephist)**2+(np.sqrt(ts)/ts)**2)\n"
     ],
     "language": "python",
     "metadata": {},
     "outputs": [],
     "prompt_number": 199
    },
    {
     "cell_type": "code",
     "collapsed": false,
     "input": [
      "flathist=flathist/float(tf)\n",
      "steephist=steephist/float(ts)"
     ],
     "language": "python",
     "metadata": {},
     "outputs": [],
     "prompt_number": 200
    },
    {
     "cell_type": "code",
     "collapsed": false,
     "input": [
      "cflathist=plt.hist(dataflat,range=(13,22),bins=9,normed=True,cumulative=True,histtype='step')"
     ],
     "language": "python",
     "metadata": {},
     "outputs": [],
     "prompt_number": 201
    },
    {
     "cell_type": "code",
     "collapsed": false,
     "input": [
      "ksD,ksp = ks_2samp(dataflat,datasteep)\n",
      "ud,up=mannwhitneyu(dataflat,datasteep)"
     ],
     "language": "python",
     "metadata": {},
     "outputs": [],
     "prompt_number": 234
    },
    {
     "cell_type": "code",
     "collapsed": false,
     "input": [
      "f=plt.figure(figsize=(10,7))\n",
      "gs=gridspec.GridSpec(2,2)\n",
      "gs.update(wspace=0)"
     ],
     "language": "python",
     "metadata": {},
     "outputs": [],
     "prompt_number": 261
    },
    {
     "cell_type": "code",
     "collapsed": false,
     "input": [
      "ax1=plt.subplot(gs[0,0])\n",
      "plt.bar(flatcenters,flathist,yerr=flaterr,color='g',width=widf)\n",
      "plt.ylim(0,.5)\n",
      "plt.title('flat spectrum')\n",
      "ax2=plt.subplot(gs[0,1],sharey=ax1)\n",
      "plt.bar(steepcenters,steephist,yerr=steeperr,color='r',width=wids)\n",
      "plt.title('steep spectrum')\n",
      "ax2.tick_params(labelleft='off')\n",
      "ax2.xaxis.set_major_locator(MaxNLocator(nbins=9,prune='lower'))\n",
      "plt.ylim(0,.4)\n",
      "ax3=plt.subplot(gs[1,:])\n",
      "cflathist=plt.hist(dataflat,range=(13,22),bins=50,normed=True,cumulative=True,histtype='step',label='flat',color='g')\n",
      "csteephist=plt.hist(datasteep,range=(13,22),bins=50,normed=True,cumulative=True,histtype='step',label='steep',color='r')\n",
      "plt.ylim(0,1)\n",
      "plt.legend(loc=2)\n",
      "\n",
      "f.text(.14,.28,'KS-test p-value = %s \\n U test p-value = %s'%(round(ksp,2),round(up,2)))"
     ],
     "language": "python",
     "metadata": {},
     "outputs": [
      {
       "metadata": {},
       "output_type": "pyout",
       "prompt_number": 262,
       "text": [
        "<matplotlib.text.Text at 0x7f5e01672410>"
       ]
      }
     ],
     "prompt_number": 262
    },
    {
     "cell_type": "code",
     "collapsed": false,
     "input": [
      "plt.savefig('HW3_P1.png')"
     ],
     "language": "python",
     "metadata": {},
     "outputs": [],
     "prompt_number": 264
    },
    {
     "cell_type": "code",
     "collapsed": false,
     "input": [
      "#Problem 2 - a) plot slice of figure with no visible sources "
     ],
     "language": "python",
     "metadata": {},
     "outputs": []
    },
    {
     "cell_type": "code",
     "collapsed": false,
     "input": [
      "iband=pyfits.open('sdss_iband.fits')\n",
      "idata=iband[0].data"
     ],
     "language": "python",
     "metadata": {},
     "outputs": [],
     "prompt_number": 3
    },
    {
     "cell_type": "code",
     "collapsed": false,
     "input": [
      "cutout=idata[900:1000,600:700]\n",
      "\n",
      "imgplot=plt.imshow(cutout.T,origin='lower')\n",
      "\n",
      "imgplot.set_clim(1200,1250)\n",
      "\n",
      "imgplot.set_cmap('Greys')\n",
      "\n",
      "plt.savefig('HW3_P2.pdf')\n",
      "\n",
      "cutoutdata=cutout.flatten()"
     ],
     "language": "python",
     "metadata": {},
     "outputs": [],
     "prompt_number": 188
    },
    {
     "cell_type": "code",
     "collapsed": false,
     "input": [
      "#2b - use calculate mu, sigma of gaussion distribution"
     ],
     "language": "python",
     "metadata": {},
     "outputs": []
    },
    {
     "cell_type": "code",
     "collapsed": false,
     "input": [
      "def gaussianPDF(mu, sigma, x):\n",
      "    return 1./(sigma * np.sqrt(2 * np.pi)) * np.exp( - (x - mu)**2 / (2 * sigma**2) )\n",
      "\n",
      "def logLikelihoodGaussian(mu, sigma, cutoutdata):\n",
      "    pxs = np.log(gaussianPDF(mu, sigma, cutoutdata))\n",
      "    return np.array(pxs).sum()"
     ],
     "language": "python",
     "metadata": {},
     "outputs": [],
     "prompt_number": 138
    },
    {
     "cell_type": "code",
     "collapsed": false,
     "input": [
      "extent = [1200,1250,1,10]\n",
      "mu_range,sig_range = np.mgrid[extent[0]:extent[1]:250j,extent[2]:extent[3]:250j]\n",
      "like_range = mu_range*0\n",
      "\n",
      "for i in range(like_range.shape[0]):\n",
      "    for j in range(like_range.shape[1]):\n",
      "        like_range[i,j] = logLikelihoodGaussian(mu_range[i,j],sig_range[i,j],cutoutdata)\n",
      "        \n",
      "max_like = np.max(like_range)\n",
      "[best_mu] = mu_range[like_range == max_like]\n",
      "[best_sigma] = sig_range[like_range == max_like]\n",
      "\n",
      "print 'Fitted mu:', best_mu\n",
      "print 'Fitted sigma:', best_sigma"
     ],
     "language": "python",
     "metadata": {},
     "outputs": [
      {
       "output_type": "stream",
       "stream": "stdout",
       "text": [
        "Fitted mu: 1229.11646586\n",
        "Fitted sigma: 7.90361445783\n"
       ]
      }
     ],
     "prompt_number": 189
    },
    {
     "cell_type": "code",
     "collapsed": false,
     "input": [
      "#plotting results"
     ],
     "language": "python",
     "metadata": {},
     "outputs": []
    },
    {
     "cell_type": "code",
     "collapsed": false,
     "input": [
      "f=plt.figure(figsize=(10,4))\n",
      "gs=gridspec.GridSpec(1,2)\n"
     ],
     "language": "python",
     "metadata": {},
     "outputs": [],
     "prompt_number": 191
    },
    {
     "cell_type": "code",
     "collapsed": false,
     "input": [
      "a=plt.subplot(gs[0,0])\n",
      "imgplot=plt.imshow(cutout.T,origin='lower')\n",
      "imgplot.set_clim(1200,1250)\n",
      "imgplot.set_cmap('Greys')\n",
      "plt.title('background cutout')\n",
      "\n",
      "b=plt.subplot(gs[0,1])\n",
      "cuthist=plt.hist(cutoutdata,150)\n",
      "x=np.linspace(1180,1280,1000)\n",
      "y=np.max(gaussianPDF(best_mu,best_sigma,x))\n",
      "z=np.max(cuthist[0])\n",
      "plt.plot(x,z/y*gaussianPDF(best_mu,best_sigma,x))\n",
      "plt.title('maximum likelihood gaussian fit')\n",
      "plt.savefig('HW3_P2.pdf')\n"
     ],
     "language": "python",
     "metadata": {},
     "outputs": [],
     "prompt_number": 192
    },
    {
     "cell_type": "code",
     "collapsed": false,
     "input": [
      "#Problem 2c - check for gaussianity "
     ],
     "language": "python",
     "metadata": {},
     "outputs": []
    },
    {
     "cell_type": "code",
     "collapsed": false,
     "input": [
      "import scipy.stats as stats"
     ],
     "language": "python",
     "metadata": {},
     "outputs": [],
     "prompt_number": 219
    },
    {
     "cell_type": "code",
     "collapsed": false,
     "input": [
      "stats.normaltest(cutoutdata)"
     ],
     "language": "python",
     "metadata": {},
     "outputs": [
      {
       "metadata": {},
       "output_type": "pyout",
       "prompt_number": 224,
       "text": [
        "(1.1190611281544545, 0.57147727285134375)"
       ]
      }
     ],
     "prompt_number": 224
    },
    {
     "cell_type": "code",
     "collapsed": false,
     "input": [
      "#the p-value .57, indicating it is unlikely the set is not consistent with a normal distribution. "
     ],
     "language": "python",
     "metadata": {},
     "outputs": [],
     "prompt_number": 206
    },
    {
     "cell_type": "code",
     "collapsed": false,
     "input": [
      "#Problem 3 \n",
      "#a) select galaxies with r<17.7"
     ],
     "language": "python",
     "metadata": {},
     "outputs": [],
     "prompt_number": 207
    },
    {
     "cell_type": "code",
     "collapsed": false,
     "input": [
      "lz=pyfits.open('sdss_lz.fits')\n",
      "lz=lz[1].data\n",
      "lz_sample=[]"
     ],
     "language": "python",
     "metadata": {},
     "outputs": [],
     "prompt_number": 4
    },
    {
     "cell_type": "code",
     "collapsed": false,
     "input": [
      "for row in lz:\n",
      "\tif row['r'] < 17.7:\n",
      "\t\tlz_sample.append({'z':row['z'],'ra':row['ra'],'dec':row['dec'],'zErr':row['zErr'],'r':row['r']})"
     ],
     "language": "python",
     "metadata": {},
     "outputs": [],
     "prompt_number": 5
    },
    {
     "cell_type": "code",
     "collapsed": false,
     "input": [
      "#b) plot magnitude vs redshift"
     ],
     "language": "python",
     "metadata": {},
     "outputs": []
    },
    {
     "cell_type": "code",
     "collapsed": false,
     "input": [
      "redshift=[row['z'] for row in lz_sample]\n",
      "mag_r=[row['r'] for row in lz_sample]"
     ],
     "language": "python",
     "metadata": {},
     "outputs": [],
     "prompt_number": 6
    },
    {
     "cell_type": "code",
     "collapsed": false,
     "input": [
      "#c) i) absolute magnitude frequency distribution, restricting to z<0.018\n",
      "#   ii) absolute magnitude frequency distribution, now .01<z<.018 and r < 16"
     ],
     "language": "python",
     "metadata": {},
     "outputs": [],
     "prompt_number": 17
    },
    {
     "cell_type": "code",
     "collapsed": false,
     "input": [
      "lz_ci=[]\n",
      "for row in lz:\n",
      "\tif row['r'] < 17.7 and row['z']<0.018:\n",
      "\t\tlz_ci.append({'z':row['z'],'ra':row['ra'],'dec':row['dec'],'zErr':row['zErr'],'r':row['r']})\n",
      "lz_cii=[]\n",
      "for row in lz:\n",
      "\tif row['r'] < 16 and row['z']>0.01 and row['z'] < 0.012:\n",
      "\t\tlz_cii.append({'z':row['z'],'ra':row['ra'],'dec':row['dec'],'zErr':row['zErr'],'r':row['r']})\n"
     ],
     "language": "python",
     "metadata": {},
     "outputs": [],
     "prompt_number": 63
    },
    {
     "cell_type": "code",
     "collapsed": false,
     "input": [
      "ci_mag=[row['r'] for row in lz_ci]\n",
      "ci_hist,ci_edges=np.histogram(ci_mag,bins=11,range=(12,17.7))\n",
      "tci=len(ci_mag)\n",
      "\n",
      "cii_mag=[row['r'] for row in lz_cii]\n",
      "cii_hist,cii_edges=np.histogram(cii_mag,bins=10,range=(12,16))\n",
      "tcii=len(cii_mag)"
     ],
     "language": "python",
     "metadata": {},
     "outputs": [],
     "prompt_number": 86
    },
    {
     "cell_type": "code",
     "collapsed": false,
     "input": [
      "ci_centers=0.5*(ci_edges[1:]+ci_edges[:-1])\n",
      "ci_width = ci_edges[1:] - ci_edges[:-1]\n",
      "\n",
      "cii_centers=0.5*(cii_edges[1:]+cii_edges[:-1])\n",
      "cii_width = cii_edges[1:] - cii_edges[:-1]"
     ],
     "language": "python",
     "metadata": {},
     "outputs": [],
     "prompt_number": 87
    },
    {
     "cell_type": "code",
     "collapsed": false,
     "input": [
      "ci_err=ci_hist/float(tci)*np.sqrt((np.sqrt(ci_hist)/ci_hist)**2+(np.sqrt(tci)/tci)**2)\n",
      "\n",
      "cii_err=cii_hist/float(tcii)*np.sqrt((np.sqrt(cii_hist)/cii_hist)**2+(np.sqrt(tcii)/tcii)**2)\n"
     ],
     "language": "python",
     "metadata": {},
     "outputs": [],
     "prompt_number": 88
    },
    {
     "cell_type": "code",
     "collapsed": false,
     "input": [
      "ci_hist=ci_hist/float(tci)\n",
      "\n",
      "cii_hist=cii_hist/float(tcii)\n"
     ],
     "language": "python",
     "metadata": {},
     "outputs": [],
     "prompt_number": 89
    },
    {
     "cell_type": "code",
     "collapsed": false,
     "input": [],
     "language": "python",
     "metadata": {},
     "outputs": [],
     "prompt_number": 89
    },
    {
     "cell_type": "code",
     "collapsed": false,
     "input": [
      "#all the plots\n",
      "f=plt.figure(figsize=(13,10))\n",
      "gs=gridspec.GridSpec(2,2)"
     ],
     "language": "python",
     "metadata": {},
     "outputs": [],
     "prompt_number": 90
    },
    {
     "cell_type": "code",
     "collapsed": false,
     "input": [
      "a=plt.subplot(gs[0,:])\n",
      "plt.scatter(redshift,mag_r,marker='.')\n",
      "plt.axhline(y=17.7)\n",
      "plt.xlabel('redshift')\n",
      "plt.ylabel('absolute r band magnitude')\n",
      "\n",
      "ci=plt.subplot(gs[1,0])\n",
      "plt.bar(ci_centers,ci_hist,yerr=ci_err,color='r',width=ci_width)\n",
      "plt.xlabel('absolute r band magnitude')\n",
      "plt.ylim(0,.3)\n",
      "plt.xlim(12,18.5)\n",
      "plt.title('r<17.7, z<0.018')\n",
      "plt.savefig('HW3_P3.pdf')\n",
      "\n",
      "cii=plt.subplot(gs[1,1])\n",
      "plt.bar(cii_centers,cii_hist,yerr=cii_err,color='g',width=cii_width)\n",
      "plt.xlabel('absolute r band magnitude')\n",
      "plt.ylim(0,.3)\n",
      "plt.xlim(12,18.5)\n",
      "plt.title('r<16, 0.01<z<0.012')\n",
      "plt.savefig('HW3_P3.pdf')"
     ],
     "language": "python",
     "metadata": {},
     "outputs": [],
     "prompt_number": 91
    },
    {
     "cell_type": "code",
     "collapsed": false,
     "input": [],
     "language": "python",
     "metadata": {},
     "outputs": []
    }
   ],
   "metadata": {}
  }
 ]
}