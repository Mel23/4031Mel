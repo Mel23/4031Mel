{
 "metadata": {
  "name": ""
 },
 "nbformat": 3,
 "nbformat_minor": 0,
 "worksheets": [
  {
   "cells": [
    {
     "cell_type": "code",
     "collapsed": false,
     "input": [
      "from numpy import random\n"
     ],
     "language": "python",
     "metadata": {},
     "outputs": [],
     "prompt_number": 77
    },
    {
     "cell_type": "code",
     "collapsed": false,
     "input": [
      "data=pyfits.open('GC_NGC4365.fits')"
     ],
     "language": "python",
     "metadata": {},
     "outputs": [],
     "prompt_number": 21
    },
    {
     "cell_type": "code",
     "collapsed": false,
     "input": [
      "data=data[1].data"
     ],
     "language": "python",
     "metadata": {},
     "outputs": [],
     "prompt_number": 27
    },
    {
     "cell_type": "code",
     "collapsed": false,
     "input": [
      "data[0]"
     ],
     "language": "python",
     "metadata": {},
     "outputs": [
      {
       "metadata": {},
       "output_type": "pyout",
       "prompt_number": 18,
       "text": [
        "(186.06138999999999, 7.3013899999999978, 'CGC', 'NGC4365_GC1', 186.06138999999999, 7.3013899999999987, 1634, 7, 21.913, 0.017999999, 21.292999, 0.014, 21.065001, 0.014)"
       ]
      }
     ],
     "prompt_number": 18
    },
    {
     "cell_type": "code",
     "collapsed": false,
     "input": [
      "g_i=data['gmag'] - data['imag']"
     ],
     "language": "python",
     "metadata": {},
     "outputs": [],
     "prompt_number": 28
    },
    {
     "cell_type": "code",
     "collapsed": false,
     "input": [
      "plt.hist(g_i,bins=50,normed=True)"
     ],
     "language": "python",
     "metadata": {},
     "outputs": [
      {
       "metadata": {},
       "output_type": "pyout",
       "prompt_number": 91,
       "text": [
        "(array([ 0.32285737,  0.        ,  0.32285737,  0.64571475,  0.96857212,\n",
        "        2.26000162,  2.582859  ,  1.2914295 ,  1.61428687,  2.26000162,\n",
        "        2.90571637,  1.93714425,  2.26000162,  1.61428687,  3.55143112,\n",
        "        1.2914295 ,  0.96857212,  0.64571475,  0.96857212,  1.93714425,\n",
        "        1.2914295 ,  1.93714425,  2.582859  ,  2.26000162,  1.93714425,\n",
        "        2.90571637,  2.26000162,  3.55143112,  2.26000162,  3.22857374,\n",
        "        1.61428687,  2.90571637,  1.61428687,  1.61428687,  1.93714425,\n",
        "        2.90571637,  2.582859  ,  2.26000162,  0.64571475,  1.61428687,\n",
        "        2.26000162,  0.32285737,  0.64571475,  0.96857212,  0.        ,\n",
        "        0.        ,  0.96857212,  0.32285737,  0.64571475,  0.64571475]),\n",
        " array([ 0.67899895,  0.69133896,  0.70367897,  0.71601898,  0.72835899,\n",
        "        0.74069901,  0.75303902,  0.76537903,  0.77771904,  0.79005905,\n",
        "        0.80239906,  0.81473907,  0.82707909,  0.8394191 ,  0.85175911,\n",
        "        0.86409912,  0.87643913,  0.88877914,  0.90111916,  0.91345917,\n",
        "        0.92579918,  0.93813919,  0.9504792 ,  0.96281921,  0.97515923,\n",
        "        0.98749924,  0.99983925,  1.01217926,  1.02451927,  1.03685928,\n",
        "        1.0491993 ,  1.06153931,  1.07387932,  1.08621933,  1.09855934,\n",
        "        1.11089935,  1.12323936,  1.13557938,  1.14791939,  1.1602594 ,\n",
        "        1.17259941,  1.18493942,  1.19727943,  1.20961945,  1.22195946,\n",
        "        1.23429947,  1.24663948,  1.25897949,  1.2713195 ,  1.28365952,\n",
        "        1.29599953]),\n",
        " <a list of 50 Patch objects>)"
       ]
      }
     ],
     "prompt_number": 91
    },
    {
     "cell_type": "code",
     "collapsed": false,
     "input": [
      "plt.show()"
     ],
     "language": "python",
     "metadata": {},
     "outputs": [],
     "prompt_number": 39
    },
    {
     "cell_type": "code",
     "collapsed": false,
     "input": [
      "def pdf_model(x, theta):\n",
      "    mu1, sig1, mu2, sig2, al_1 = theta\n",
      "    return al_1*norm.pdf(x, mu1, sig1) + (1-al_1)*norm.pdf(x, mu2, sig2)"
     ],
     "language": "python",
     "metadata": {},
     "outputs": [],
     "prompt_number": 52
    },
    {
     "cell_type": "code",
     "collapsed": false,
     "input": [
      "theta0 = np.array([-0.2,0.2,0.8,0.2,0.5])\n"
     ],
     "language": "python",
     "metadata": {},
     "outputs": [],
     "prompt_number": 43
    },
    {
     "cell_type": "code",
     "collapsed": false,
     "input": [
      "len(pdf_model(g_i,theta0))"
     ],
     "language": "python",
     "metadata": {},
     "outputs": [
      {
       "metadata": {},
       "output_type": "pyout",
       "prompt_number": 54,
       "text": [
        "251"
       ]
      }
     ],
     "prompt_number": 54
    },
    {
     "cell_type": "code",
     "collapsed": false,
     "input": [
      "plt.scatter(g_i,pdf_model(g_i,theta0))"
     ],
     "language": "python",
     "metadata": {},
     "outputs": [
      {
       "metadata": {},
       "output_type": "pyout",
       "prompt_number": 65,
       "text": [
        "<matplotlib.collections.PathCollection at 0x7fe7b6313fd0>"
       ]
      }
     ],
     "prompt_number": 65
    },
    {
     "cell_type": "code",
     "collapsed": false,
     "input": [
      "plt.show()"
     ],
     "language": "python",
     "metadata": {},
     "outputs": [],
     "prompt_number": 66
    },
    {
     "cell_type": "code",
     "collapsed": false,
     "input": [
      "max_iter = 100\n",
      "\n",
      "# Initial guess of parameters and initializations\n",
      "theta0 = np.array([-0.2,0.2,0.8,0.2,0.5])\n",
      "mu1, sig1, mu2, sig2, alpha_1 = theta0\n",
      "mu = np.array([mu1, mu2])\n",
      "sig = np.array([sig1, sig2])\n",
      "alpha_ = np.array([alpha_1, 1-alpha_1])\n",
      "\n",
      "w = np.zeros((2, g_i.size))\n",
      "N_ = np.zeros(2)\n",
      "p_new = theta0\n",
      "\n",
      "# EM loop\n",
      "counter = 0\n",
      "converged = False\n",
      "while not converged:\n",
      "    # Compute the responsibility func. and new parameters\n",
      "    for j in [0,1]:\n",
      "        w[j,:] = alpha_[j]*norm.pdf(g_i, mu[j], sig[j])/pdf_model(g_i, p_new)\n",
      "        N_[j] = 1.*w[j].sum()\n",
      "        mu[j] = sum(w[j]*g_i)/N_[j]\n",
      "        sig[j] = np.sqrt( sum(w[j]*(g_i-mu[j])**2)/N_[j] )\n",
      "        alpha_[j] = N_[j]/g_i.size\n",
      "    p_new = [mu[0], sig[0], mu[1], sig[1], alpha_[0]]\n",
      "#in the next line you're telling the program to test the condition\n",
      "#and trigger an error if the condition is false\n",
      "    #assert abs(N_.sum() - N_)/float(N_) < 1e-6  \n",
      "    #assert abs(alpha_.sum() - 1) < 1e-6\n",
      "    \n",
      "    # Convergence check\n",
      "    counter += 1\n",
      "    converged = counter >= max_iter"
     ],
     "language": "python",
     "metadata": {},
     "outputs": [],
     "prompt_number": 85
    },
    {
     "cell_type": "code",
     "collapsed": false,
     "input": [
      "alpha_[0]"
     ],
     "language": "python",
     "metadata": {},
     "outputs": [
      {
       "metadata": {},
       "output_type": "pyout",
       "prompt_number": 89,
       "text": [
        "0.28198968954554954"
       ]
      }
     ],
     "prompt_number": 89
    },
    {
     "cell_type": "code",
     "collapsed": false,
     "input": [
      "print \"Means:   %6.3f  %6.3f\" % (p_new[0], p_new[2])\n",
      "print \"Std dev: %6.3f  %6.3f\" % (p_new[1], p_new[3])\n",
      "print \"Mix (1): %6.3f \" % p_new[4]"
     ],
     "language": "python",
     "metadata": {},
     "outputs": [
      {
       "output_type": "stream",
       "stream": "stdout",
       "text": [
        "Means:    0.800   1.044\n",
        "Std dev:  0.047   0.106\n",
        "Mix (1):  0.282 \n"
       ]
      }
     ],
     "prompt_number": 87
    },
    {
     "cell_type": "code",
     "collapsed": false,
     "input": [
      "mytheta= np.array([p_new[0],p_new[1],p_new[2],p_new[3],alpha_[0]])\n"
     ],
     "language": "python",
     "metadata": {},
     "outputs": [],
     "prompt_number": 90
    },
    {
     "cell_type": "code",
     "collapsed": false,
     "input": [
      "plt.scatter(g_i,pdf_model(g_i,mytheta),c='g')"
     ],
     "language": "python",
     "metadata": {},
     "outputs": [
      {
       "metadata": {},
       "output_type": "pyout",
       "prompt_number": 141,
       "text": [
        "<matplotlib.collections.PathCollection at 0x7fe7b10aeb90>"
       ]
      }
     ],
     "prompt_number": 141
    },
    {
     "cell_type": "code",
     "collapsed": false,
     "input": [
      "plt.show()"
     ],
     "language": "python",
     "metadata": {},
     "outputs": [],
     "prompt_number": 142
    },
    {
     "cell_type": "code",
     "collapsed": false,
     "input": [
      "plt.hist(g_i,bins=50,normed=True,histtype='step')"
     ],
     "language": "python",
     "metadata": {},
     "outputs": [
      {
       "metadata": {},
       "output_type": "pyout",
       "prompt_number": 140,
       "text": [
        "(array([ 0.32285737,  0.        ,  0.32285737,  0.64571475,  0.96857212,\n",
        "        2.26000162,  2.582859  ,  1.2914295 ,  1.61428687,  2.26000162,\n",
        "        2.90571637,  1.93714425,  2.26000162,  1.61428687,  3.55143112,\n",
        "        1.2914295 ,  0.96857212,  0.64571475,  0.96857212,  1.93714425,\n",
        "        1.2914295 ,  1.93714425,  2.582859  ,  2.26000162,  1.93714425,\n",
        "        2.90571637,  2.26000162,  3.55143112,  2.26000162,  3.22857374,\n",
        "        1.61428687,  2.90571637,  1.61428687,  1.61428687,  1.93714425,\n",
        "        2.90571637,  2.582859  ,  2.26000162,  0.64571475,  1.61428687,\n",
        "        2.26000162,  0.32285737,  0.64571475,  0.96857212,  0.        ,\n",
        "        0.        ,  0.96857212,  0.32285737,  0.64571475,  0.64571475]),\n",
        " array([ 0.67899895,  0.69133896,  0.70367897,  0.71601898,  0.72835899,\n",
        "        0.74069901,  0.75303902,  0.76537903,  0.77771904,  0.79005905,\n",
        "        0.80239906,  0.81473907,  0.82707909,  0.8394191 ,  0.85175911,\n",
        "        0.86409912,  0.87643913,  0.88877914,  0.90111916,  0.91345917,\n",
        "        0.92579918,  0.93813919,  0.9504792 ,  0.96281921,  0.97515923,\n",
        "        0.98749924,  0.99983925,  1.01217926,  1.02451927,  1.03685928,\n",
        "        1.0491993 ,  1.06153931,  1.07387932,  1.08621933,  1.09855934,\n",
        "        1.11089935,  1.12323936,  1.13557938,  1.14791939,  1.1602594 ,\n",
        "        1.17259941,  1.18493942,  1.19727943,  1.20961945,  1.22195946,\n",
        "        1.23429947,  1.24663948,  1.25897949,  1.2713195 ,  1.28365952,\n",
        "        1.29599953]),\n",
        " <a list of 1 Patch objects>)"
       ]
      }
     ],
     "prompt_number": 140
    },
    {
     "cell_type": "code",
     "collapsed": false,
     "input": [
      "g_i_lower=[]\n",
      "g_i_higher=[]\n",
      "ra_l=[]\n",
      "ra_h=[]\n",
      "dec_l=[]\n",
      "dec_h=[]"
     ],
     "language": "python",
     "metadata": {},
     "outputs": [],
     "prompt_number": 156
    },
    {
     "cell_type": "code",
     "collapsed": false,
     "input": [
      "for row in data:\n",
      "    if row['gmag'] - row['imag'] < 0.9:\n",
      "        g_i_lower.append(row['gmag'] - row['imag'])\n",
      "        ra_l.append(row['_RAJ2000'])\n",
      "        dec_l.append(row['_DEJ2000'])\n",
      "    else:\n",
      "        g_i_higher.append(row['gmag']-row['imag'])\n",
      "        ra_h.append(row['_RAJ2000'])\n",
      "        dec_h.append(row['_DEJ2000'])"
     ],
     "language": "python",
     "metadata": {},
     "outputs": [],
     "prompt_number": 157
    },
    {
     "cell_type": "code",
     "collapsed": false,
     "input": [
      "len(g_i_lower)+len(g_i_higher)"
     ],
     "language": "python",
     "metadata": {},
     "outputs": [
      {
       "metadata": {},
       "output_type": "pyout",
       "prompt_number": 149,
       "text": [
        "252"
       ]
      }
     ],
     "prompt_number": 149
    },
    {
     "cell_type": "code",
     "collapsed": false,
     "input": [
      "len(dec_l)"
     ],
     "language": "python",
     "metadata": {},
     "outputs": [
      {
       "metadata": {},
       "output_type": "pyout",
       "prompt_number": 155,
       "text": [
        "85"
       ]
      }
     ],
     "prompt_number": 155
    },
    {
     "cell_type": "code",
     "collapsed": false,
     "input": [
      "plt.scatter(ra_l,dec_l,color='g',label='first population')"
     ],
     "language": "python",
     "metadata": {},
     "outputs": [
      {
       "metadata": {},
       "output_type": "pyout",
       "prompt_number": 159,
       "text": [
        "<matplotlib.collections.PathCollection at 0x7fe7b0f98b90>"
       ]
      }
     ],
     "prompt_number": 159
    },
    {
     "cell_type": "code",
     "collapsed": false,
     "input": [
      "plt.scatter(ra_h,dec_h,label='second population')"
     ],
     "language": "python",
     "metadata": {},
     "outputs": [
      {
       "metadata": {},
       "output_type": "pyout",
       "prompt_number": 160,
       "text": [
        "<matplotlib.collections.PathCollection at 0x7fe7b1060110>"
       ]
      }
     ],
     "prompt_number": 160
    },
    {
     "cell_type": "code",
     "collapsed": false,
     "input": [
      "plt.legend()"
     ],
     "language": "python",
     "metadata": {},
     "outputs": [
      {
       "metadata": {},
       "output_type": "pyout",
       "prompt_number": 161,
       "text": [
        "<matplotlib.legend.Legend at 0x7fe7b0f98a50>"
       ]
      }
     ],
     "prompt_number": 161
    },
    {
     "cell_type": "code",
     "collapsed": false,
     "input": [
      "plt.show()"
     ],
     "language": "python",
     "metadata": {},
     "outputs": [],
     "prompt_number": "*"
    },
    {
     "cell_type": "code",
     "collapsed": false,
     "input": [
      "logprob,responsibilities=model.score_samples(x)"
     ],
     "language": "python",
     "metadata": {},
     "outputs": [],
     "prompt_number": 126
    },
    {
     "cell_type": "code",
     "collapsed": false,
     "input": [
      "pdf=np.exp(logprob)"
     ],
     "language": "python",
     "metadata": {},
     "outputs": [],
     "prompt_number": 127
    },
    {
     "cell_type": "code",
     "collapsed": false,
     "input": [
      "pdf_individual=responsibilities*pdf[:,np.newaxis]"
     ],
     "language": "python",
     "metadata": {},
     "outputs": [],
     "prompt_number": 128
    },
    {
     "cell_type": "code",
     "collapsed": false,
     "input": [
      "plt.hist(X,normed=True,histtype='step')"
     ],
     "language": "python",
     "metadata": {},
     "outputs": [
      {
       "metadata": {},
       "output_type": "pyout",
       "prompt_number": 138,
       "text": [
        "(array([ 0.05281425,  0.0352095 ,  0.1760475 ,  0.140838  ,  0.29928075,\n",
        "        0.352095  ,  0.422514  ,  0.211257  ,  0.0352095 ,  0.0352095 ]),\n",
        " array([-3.20287193, -2.63484342, -2.06681491, -1.4987864 , -0.93075789,\n",
        "       -0.36272938,  0.20529913,  0.77332764,  1.34135615,  1.90938466,\n",
        "        2.47741317]),\n",
        " <a list of 1 Patch objects>)"
       ]
      }
     ],
     "prompt_number": 138
    },
    {
     "cell_type": "code",
     "collapsed": false,
     "input": [
      "plt.plot(x,pdf)"
     ],
     "language": "python",
     "metadata": {},
     "outputs": [
      {
       "metadata": {},
       "output_type": "pyout",
       "prompt_number": 137,
       "text": [
        "[<matplotlib.lines.Line2D at 0x7fe7b15360d0>]"
       ]
      }
     ],
     "prompt_number": 137
    },
    {
     "cell_type": "code",
     "collapsed": false,
     "input": [
      "plt.plot(x,pdf_individual[:,0])"
     ],
     "language": "python",
     "metadata": {},
     "outputs": [
      {
       "metadata": {},
       "output_type": "pyout",
       "prompt_number": 136,
       "text": [
        "[<matplotlib.lines.Line2D at 0x7fe7b114ee50>]"
       ]
      }
     ],
     "prompt_number": 136
    },
    {
     "cell_type": "code",
     "collapsed": false,
     "input": [
      "plt.plot(x,pdf_individual[:,1])"
     ],
     "language": "python",
     "metadata": {},
     "outputs": [
      {
       "metadata": {},
       "output_type": "pyout",
       "prompt_number": 135,
       "text": [
        "[<matplotlib.lines.Line2D at 0x7fe7b114ea10>]"
       ]
      }
     ],
     "prompt_number": 135
    },
    {
     "cell_type": "code",
     "collapsed": false,
     "input": [
      "plt.plot(x,pdf_individual[:,2])"
     ],
     "language": "python",
     "metadata": {},
     "outputs": [
      {
       "metadata": {},
       "output_type": "pyout",
       "prompt_number": 134,
       "text": [
        "[<matplotlib.lines.Line2D at 0x7fe7b114e290>]"
       ]
      }
     ],
     "prompt_number": 134
    },
    {
     "cell_type": "code",
     "collapsed": false,
     "input": [
      "plt.show()"
     ],
     "language": "python",
     "metadata": {},
     "outputs": [],
     "prompt_number": 139
    },
    {
     "cell_type": "code",
     "collapsed": false,
     "input": [],
     "language": "python",
     "metadata": {},
     "outputs": []
    }
   ],
   "metadata": {}
  }
 ]
}